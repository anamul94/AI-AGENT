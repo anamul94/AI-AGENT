{
 "cells": [
  {
   "cell_type": "code",
   "execution_count": 1,
   "metadata": {},
   "outputs": [
    {
     "name": "stdout",
     "output_type": "stream",
     "text": [
      "{\n",
      "    \"id\": \"chatcmpl-5315060d-4c9f-4a58-9907-214c3c44dc08\",\n",
      "    \"choices\": [\n",
      "        {\n",
      "            \"finish_reason\": \"length\",\n",
      "            \"index\": 0,\n",
      "            \"logprobs\": null,\n",
      "            \"message\": {\n",
      "                \"content\": \"Portkey is a term often associated with the \\\"Harry Potter\\\" series by J.K. Rowling. In the series, a Portkey is a magical device that allows the wizarding world to transport people and objects from one location to another instantaneously.\\n\\nAccording to the wizarding world, Portkeys are created using a combination\",\n",
      "                \"role\": \"assistant\",\n",
      "                \"function_call\": null,\n",
      "                \"tool_calls\": null,\n",
      "                \"refusal\": null,\n",
      "                \"audio\": null\n",
      "            }\n",
      "        }\n",
      "    ],\n",
      "    \"created\": 1744469623,\n",
      "    \"model\": \"llama-3.2-1b-preview\",\n",
      "    \"object\": \"chat.completion\",\n",
      "    \"system_fingerprint\": \"fp_1776878028\",\n",
      "    \"usage\": {\n",
      "        \"prompt_tokens\": 39,\n",
      "        \"completion_tokens\": 64,\n",
      "        \"total_tokens\": 103,\n",
      "        \"completion_tokens_details\": null,\n",
      "        \"prompt_tokens_details\": null,\n",
      "        \"queue_time\": 0.229189852,\n",
      "        \"prompt_time\": 0.010895557,\n",
      "        \"completion_time\": 0.017482259,\n",
      "        \"total_time\": 0.028377816\n",
      "    },\n",
      "    \"service_tier\": null,\n",
      "    \"usage_breakdown\": {\n",
      "        \"models\": null\n",
      "    },\n",
      "    \"x_groq\": {\n",
      "        \"id\": \"req_01jrn7w0gvebjar3rsbf3chqte\"\n",
      "    },\n",
      "    \"provider\": \"groq\"\n",
      "}\n"
     ]
    }
   ],
   "source": [
    "# pip install portkey_ai\n",
    "from portkey_ai import Portkey\n",
    "\n",
    "# Construct a client with a virtual key\n",
    "portkey = Portkey(\n",
    "    api_key=\"cNtwbV+LjceApS54rx6YoyXpZSoy\",\n",
    "    virtual_key=\"groq-virtual-ke-d5f6a1\",\n",
    ")\n",
    "completion = portkey.chat.completions.create(\n",
    "    messages=[{\"role\": \"user\", \"content\": \"What is Portkey\"}],\n",
    "    model=\"llama-3.2-1b-preview\",\n",
    "    max_tokens=64,\n",
    ")\n",
    "print(completion)"
   ]
  }
 ],
 "metadata": {
  "kernelspec": {
   "display_name": "venv",
   "language": "python",
   "name": "python3"
  },
  "language_info": {
   "codemirror_mode": {
    "name": "ipython",
    "version": 3
   },
   "file_extension": ".py",
   "mimetype": "text/x-python",
   "name": "python",
   "nbconvert_exporter": "python",
   "pygments_lexer": "ipython3",
   "version": "3.12.3"
  }
 },
 "nbformat": 4,
 "nbformat_minor": 2
}
